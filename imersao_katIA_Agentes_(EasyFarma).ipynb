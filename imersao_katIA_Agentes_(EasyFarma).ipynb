{
  "nbformat": 4,
  "nbformat_minor": 0,
  "metadata": {
    "colab": {
      "provenance": [],
      "include_colab_link": true
    },
    "kernelspec": {
      "name": "python3",
      "display_name": "Python 3"
    },
    "language_info": {
      "name": "python"
    }
  },
  "cells": [
    {
      "cell_type": "markdown",
      "metadata": {
        "id": "view-in-github",
        "colab_type": "text"
      },
      "source": [
        "<a href=\"https://colab.research.google.com/github/katitamatu/imersao-katIA/blob/main/imersao_katIA_Agentes_(EasyFarma).ipynb\" target=\"_parent\"><img src=\"https://colab.research.google.com/assets/colab-badge.svg\" alt=\"Open In Colab\"/></a>"
      ]
    },
    {
      "cell_type": "code",
      "source": [
        "%pip -q install google-genai"
      ],
      "metadata": {
        "id": "UCCbECexLk_h"
      },
      "execution_count": null,
      "outputs": []
    },
    {
      "cell_type": "code",
      "source": [
        "# Configura a API Key do Google Gemini\n",
        "\n",
        "import os\n",
        "from google.colab import userdata\n",
        "\n",
        "os.environ[\"GOOGLE_API_KEY\"] = userdata.get('GOOGLE_API_KEY')"
      ],
      "metadata": {
        "id": "NfCqHo1tLk8P"
      },
      "execution_count": null,
      "outputs": []
    },
    {
      "cell_type": "code",
      "source": [
        "# Configura o cliente da SDK do Gemini\n",
        "\n",
        "from google import genai\n",
        "\n",
        "client = genai.Client()\n",
        "\n",
        "MODEL_ID = \"gemini-2.0-flash\""
      ],
      "metadata": {
        "id": "bV4w0H5TLk5g"
      },
      "execution_count": null,
      "outputs": []
    },
    {
      "cell_type": "code",
      "source": [
        "# Pergunta ao Gemini uma informação mais recente que seu conhecimento\n",
        "\n",
        "from IPython.display import HTML, Markdown\n",
        "\n",
        "resposta = client.models.generate_content(\n",
        "    model=MODEL_ID,\n",
        "    contents='Informe apenas a identificação da lei sobre doação de medicamentos.',\n",
        ")\n",
        "\n",
        "# Exibe a resposta na tela\n",
        "display(Markdown(f\"Resposta:\\n {response.text}\"))"
      ],
      "metadata": {
        "colab": {
          "base_uri": "https://localhost:8080/",
          "height": 1000
        },
        "id": "Y9cBAz02xZt9",
        "outputId": "a82260e1-6dce-4fd9-f464-f274fd8206a6"
      },
      "execution_count": null,
      "outputs": [
        {
          "output_type": "display_data",
          "data": {
            "text/plain": [
              "<IPython.core.display.Markdown object>"
            ],
            "text/markdown": "Resposta:\n Sim, existe um processo legal para a doação de medicamentos no Brasil. No entanto, a doação de medicamentos é uma ação que exige especial atenção e responsabilidade, tanto de quem doa quanto de quem recebe.\n\n**Princípios e Diretrizes Gerais:**\n\n*   **Benefício ao destinatário:** As doações devem beneficiar ao máximo o destinatário, baseadas em uma necessidade expressa e respondendo às necessidades locais.\n*   **Respeito e coordenação:** As doações devem ser feitas com o devido respeito pelos desejos e pela autoridade do destinatário, em conformidade com as políticas governamentais. Deve haver coordenação e colaboração eficazes entre o doador e o destinatário, com todas as doações feitas de acordo com um plano formulado por ambas as partes. Doações não solicitadas são desencorajadas.\n*   **Qualidade:** A qualidade do medicamento deve ser aceitável tanto no local do doador quanto no local do destinatário.\n*   **Boas Práticas:** As doações devem seguir as boas práticas de doações de medicamentos e estar em acordo com a legislação e atos normativos da Anvisa e autoridades competentes.\n\n**Quem Pode Doar:**\n\n*   **Empresas:** Indústrias farmacêuticas, laboratórios farmacêuticos e distribuidoras de medicamentos.\n*   **Pessoas Físicas:** Desde que adquiram os medicamentos diretamente de fabricantes ou distribuidores, e estes realizem a logística de entrega.\n*   **Outros:** Clínicas, profissionais da saúde e entidades da sociedade civil, mediante parcerias com o poder público.\n\n**Requisitos e Restrições:**\n\n*   **Validade:** Os medicamentos devem estar dentro do prazo de validade (com pelo menos 4 meses restantes, ou no mínimo 1 mês para medicamentos críticos).\n*   **Integridade:** As embalagens devem estar intactas e os medicamentos em perfeita conservação.\n*   **Aprovação:** A doação deve ser aprovada pela Secretaria Municipal de Saúde (SMS).\n*   **Documentação:** É necessário comunicar à SMS o nome dos medicamentos a serem doados, quantidade, lote e validade, que devem estar de acordo com os requisitos traçados nas normas em vigor.\n*   **Responsabilidade:** A entidade recebedora se responsabiliza pela distribuição aos pacientes que necessitem, de acordo com as normas.\n*   **Proibições:** Não podem ser doados medicamentos com prazo de validade expirado, sujeitos a controle especial (Portaria SVS/MS nº 344/1998), amostras grátis (em alguns casos), medicamentos que não constem das listas oficiais do Ministério da Saúde, ou que sejam impróprios para utilização.\n*   **Rastreabilidade:** Todo medicamento recebido deve fazer parte de um cadastro de rastreabilidade.\n\n**Processo e Procedimentos:**\n\n1.  **Intenção de Doar:** O doador (indústria, laboratório, distribuidora) deve encaminhar uma carta de intenção à Secretaria Estadual de Saúde, com as especificações dos produtos, documentação do registro comercial e CNPJ.\n2.  **Análise e Aceite:** A SMS analisa a proposta e, em caso de aceite, a empresa entrega os medicamentos no almoxarifado ou órgão equivalente indicado.\n3.  **Documentação:** Os medicamentos devem ser acompanhados de relatório contendo lote, quantidade, prazo de validade, nota fiscal de doação e certificado de boas práticas de fabricação.\n4.  **Triagem:** Os pontos de coleta (farmácias solidárias) devem efetuar a triagem dos medicamentos doados, observando a avaliação pela equipe técnica quanto à integridade física e ao prazo de validade.\n\n**Destinação de Medicamentos Vencidos ou Não Utilizáveis:**\n\n*   Medicamentos impróprios para uso devem ser descartados por profissionais habilitados, conforme a normativa vigente (incineração em locais específicos).\n*   O descarte pode ser feito em farmácias que possuem coletores, conforme o Decreto nº 10.388/2020 (Política Nacional de Resíduos Sólidos).\n\n**Farmácias Solidárias:**\n\n*   Alguns municípios possuem projetos de \"Farmácias Solidárias\" para receber doações de medicamentos da população, clínicas, profissionais de saúde e indústrias farmacêuticas, a fim de dispensá-los gratuitamente.\n*   Essas farmácias devem seguir as legislações sanitárias vigentes e garantir a qualidade, segurança e eficácia dos produtos doados.\n*   A dispensação gratuita dos medicamentos doados só pode ocorrer com a responsabilidade técnica de um farmacêutico, após controle de sua integridade.\n\n**Considerações Importantes:**\n\n*   A doação de medicamentos não exclui ações de vigilância, auditoria ou outras formas de controle pelos órgãos do SUS.\n*   O descumprimento das normas pode implicar na exclusão do programa de doação, sem prejuízo de outras providências legais.\n*   A Agência Nacional de Vigilância Sanitária (ANVISA) é o órgão responsável por regulamentar as atividades relacionadas a medicamentos.\n*   Alguns estados e municípios possuem legislação específica sobre doação de medicamentos, como o Decreto Municipal de São Paulo nº 47.475/2006 e a Lei Estadual do Rio Grande do Sul nº 15.879/2022.\n\n**Judicialização de Medicamentos:**\n\n*   O Supremo Tribunal Federal (STF) definiu diretrizes para a concessão de medicamentos não incorporados ao SUS por meio de processo judicial.\n*   Em geral, a justiça não pode determinar o fornecimento de medicamentos que não foram incorporados pela Comissão Nacional de Incorporação de Tecnologias (Conitec), com algumas exceções.\n\nEm resumo, a doação de medicamentos é um processo regulamentado que visa garantir o acesso a medicamentos para quem precisa, mas sempre com segurança e responsabilidade.\n"
          },
          "metadata": {}
        }
      ]
    },
    {
      "cell_type": "code",
      "source": [
        "# Pergunta ao Gemini uma informação utilizando a busca do Google como contexto\n",
        "\n",
        "response = client.models.generate_content(\n",
        "    model=MODEL_ID,\n",
        "    contents='Existe um processo legal sobre doação de remédios?',\n",
        "    config={\"tools\": [{\"google_search\": {}}]}\n",
        ")\n",
        "\n",
        "# Exibe a resposta na tela\n",
        "display(Markdown(f\"Resposta:\\n {response.text}\"))"
      ],
      "metadata": {
        "id": "lc2JPA92xbnp",
        "colab": {
          "base_uri": "https://localhost:8080/",
          "height": 887
        },
        "outputId": "8d2e30ce-9d01-4740-ae7b-b31da0367e22"
      },
      "execution_count": null,
      "outputs": [
        {
          "output_type": "display_data",
          "data": {
            "text/plain": [
              "<IPython.core.display.Markdown object>"
            ],
            "text/markdown": "Resposta:\n Sim, existem processos legais e regulamentações que regem a doação de medicamentos no Brasil. Esses processos visam garantir a segurança, a qualidade e o uso adequado dos medicamentos doados. Aqui estão alguns pontos importantes:\n\n**Legislação e Regulamentação:**\n\n*   **Diretrizes para programas de doação:** O PL 3.917/2021 estabelece diretrizes para programas de doação de medicamentos de uso humano à população. Esses programas devem seguir as diretrizes do Sistema Único de Saúde (SUS), garantir a autenticidade dos medicamentos, a inviolabilidade das embalagens e adotar procedimentos que permitam a rastreabilidade dos remédios doados.\n*   **Resolução da Diretoria Colegiada (RDC) nº 44/2009 da ANVISA:** Esta resolução dispõe sobre Boas Práticas Farmacêuticas para o controle sanitário do funcionamento, da dispensação e da comercialização de produtos e da prestação de serviços farmacêuticos em farmácias e drogarias. Ela aborda as condições de armazenamento dos medicamentos.\n*   **Decreto nº 10.388/2020:** Este decreto regulamenta o sistema de logística reversa de medicamentos domiciliares vencidos ou em desuso, de uso humano, industrializados e manipulados, e de suas embalagens após o descarte pelos consumidores. Ele estabelece que medicamentos impróprios para uso devem ser descartados por profissionais habilitados, com destinação final obrigatória para incineração em locais específicos.\n\n**Requisitos e Procedimentos:**\n\n*   **Qualidade e segurança:** Para garantir a qualidade e a segurança dos produtos, as doações devem ser adquiridas de fabricantes e distribuidores de medicamentos.\n*   **Medicamentos regularizados:** A doação deve ser de medicamentos regularizados no Brasil, incluindo remédios controlados e amostras grátis (em algumas situações específicas, como a autorização da Anvisa para o Rio Grande do Sul em 2024).\n*   **Rastreabilidade:** É importante adotar procedimentos que permitam a rastreabilidade dos remédios doados.\n*   **Armazenamento:** Os medicamentos devem ser armazenados em condições adequadas, conforme as Boas Práticas Farmacêuticas.\n*   **Descarte:** Medicamentos vencidos ou em desuso devem ser descartados corretamente, seguindo a legislação vigente.\n*   **Profissional farmacêutico:** A avaliação visual da integridade física e da data de validade dos medicamentos deve ser realizada por um profissional farmacêutico.\n\n**Quem pode doar:**\n\n*   **Empresas:** Empresas de todo o país, incluindo fabricantes e distribuidores de medicamentos.\n*   **Pessoas físicas:** Pessoas físicas, desde que adquiram os medicamentos diretamente de fabricantes ou distribuidores e estes realizem a logística de entrega.\n\n**Restrições:**\n\n*   **Amostras grátis:** A distribuição de amostras grátis de medicamentos biológicos, preparações magistrais e medicamentos isentos de prescrição é proibida.\n*   **Medicamentos controlados:** Para medicamentos sob controle especial, os estabelecimentos devem escriturar as movimentações em Livro de Registro Específico, conforme a Portaria SVS/MS 344/1998.\n*   **Doação de pessoa física para farmácias:** A doação de medicamentos por pessoas físicas para farmácias (incluindo \"Farmácias Solidárias\") é vista com ressalvas pelas autoridades sanitárias, devido aos riscos de qualidade e segurança dos medicamentos.\n*   **Medicamentos de alto custo:** A doação de medicamentos de alto custo distribuídos pelo SUS ou obtidos por ação judicial é proibida. Nesses casos, os medicamentos devem ser devolvidos ao Ministério da Saúde.\n\n**Farmácias Solidárias:**\n\n*   Alguns municípios têm projetos de \"Farmácias Solidárias\" que recebem doações de medicamentos da população, clínicas, profissionais de saúde e indústrias farmacêuticas para dispensar gratuitamente à população. No entanto, esses programas devem seguir as legislações sanitárias vigentes e garantir a qualidade e a segurança dos medicamentos.\n\n**Considerações Adicionais:**\n\n*   A doação de medicamentos deve ser baseada em uma necessidade expressa e beneficiar ao máximo o destinatário.\n*   É importante comunicar-se com os receptores para verificar quais são as necessidades prioritárias do local de destino.\n*   A prática de doação de medicamentos nas redes sociais é desencorajada pelo Ministério da Saúde, devido aos riscos de segurança e qualidade dos medicamentos.\n\nEm resumo, a doação de medicamentos é um processo regulamentado que exige atenção à legislação sanitária, aos requisitos de qualidade e segurança, e à participação de profissionais farmacêuticos para garantir o uso adequado dos medicamentos doados.\n"
          },
          "metadata": {}
        }
      ]
    },
    {
      "cell_type": "code",
      "source": [
        "# Exibe a busca\n",
        "print(f\"Busca realizada: {response.candidates[0].grounding_metadata.web_search_queries}\")\n",
        "# Exibe as URLs nas quais ele se baseou\n",
        "print(f\"Páginas utilizadas na resposta: {', '.join([site.web.title for site in response.candidates[0].grounding_metadata.grounding_chunks])}\")\n",
        "print()\n",
        "display(HTML(response.candidates[0].grounding_metadata.search_entry_point.rendered_content))"
      ],
      "metadata": {
        "colab": {
          "base_uri": "https://localhost:8080/",
          "height": 121
        },
        "id": "6Cg0KNJGMgC5",
        "outputId": "5e8e4d42-492c-4917-b348-5314c9b8f2b9"
      },
      "execution_count": null,
      "outputs": [
        {
          "output_type": "stream",
          "name": "stdout",
          "text": [
            "Busca realizada: ['processo legal doação de remédios brasil', 'legislação doação de medicamentos brasil', 'regulamentação doação de medicamentos brasil']\n",
            "Páginas utilizadas na resposta: ebc.com.br, vigilanciasanitaria.sc.gov.br, cff.org.br, senado.leg.br, www.gov.br, legisweb.com.br, camara.leg.br, al.ms.gov.br, exame.com\n",
            "\n"
          ]
        },
        {
          "output_type": "display_data",
          "data": {
            "text/plain": [
              "<IPython.core.display.HTML object>"
            ],
            "text/html": [
              "<style>\n",
              ".container {\n",
              "  align-items: center;\n",
              "  border-radius: 8px;\n",
              "  display: flex;\n",
              "  font-family: Google Sans, Roboto, sans-serif;\n",
              "  font-size: 14px;\n",
              "  line-height: 20px;\n",
              "  padding: 8px 12px;\n",
              "}\n",
              ".chip {\n",
              "  display: inline-block;\n",
              "  border: solid 1px;\n",
              "  border-radius: 16px;\n",
              "  min-width: 14px;\n",
              "  padding: 5px 16px;\n",
              "  text-align: center;\n",
              "  user-select: none;\n",
              "  margin: 0 8px;\n",
              "  -webkit-tap-highlight-color: transparent;\n",
              "}\n",
              ".carousel {\n",
              "  overflow: auto;\n",
              "  scrollbar-width: none;\n",
              "  white-space: nowrap;\n",
              "  margin-right: -12px;\n",
              "}\n",
              ".headline {\n",
              "  display: flex;\n",
              "  margin-right: 4px;\n",
              "}\n",
              ".gradient-container {\n",
              "  position: relative;\n",
              "}\n",
              ".gradient {\n",
              "  position: absolute;\n",
              "  transform: translate(3px, -9px);\n",
              "  height: 36px;\n",
              "  width: 9px;\n",
              "}\n",
              "@media (prefers-color-scheme: light) {\n",
              "  .container {\n",
              "    background-color: #fafafa;\n",
              "    box-shadow: 0 0 0 1px #0000000f;\n",
              "  }\n",
              "  .headline-label {\n",
              "    color: #1f1f1f;\n",
              "  }\n",
              "  .chip {\n",
              "    background-color: #ffffff;\n",
              "    border-color: #d2d2d2;\n",
              "    color: #5e5e5e;\n",
              "    text-decoration: none;\n",
              "  }\n",
              "  .chip:hover {\n",
              "    background-color: #f2f2f2;\n",
              "  }\n",
              "  .chip:focus {\n",
              "    background-color: #f2f2f2;\n",
              "  }\n",
              "  .chip:active {\n",
              "    background-color: #d8d8d8;\n",
              "    border-color: #b6b6b6;\n",
              "  }\n",
              "  .logo-dark {\n",
              "    display: none;\n",
              "  }\n",
              "  .gradient {\n",
              "    background: linear-gradient(90deg, #fafafa 15%, #fafafa00 100%);\n",
              "  }\n",
              "}\n",
              "@media (prefers-color-scheme: dark) {\n",
              "  .container {\n",
              "    background-color: #1f1f1f;\n",
              "    box-shadow: 0 0 0 1px #ffffff26;\n",
              "  }\n",
              "  .headline-label {\n",
              "    color: #fff;\n",
              "  }\n",
              "  .chip {\n",
              "    background-color: #2c2c2c;\n",
              "    border-color: #3c4043;\n",
              "    color: #fff;\n",
              "    text-decoration: none;\n",
              "  }\n",
              "  .chip:hover {\n",
              "    background-color: #353536;\n",
              "  }\n",
              "  .chip:focus {\n",
              "    background-color: #353536;\n",
              "  }\n",
              "  .chip:active {\n",
              "    background-color: #464849;\n",
              "    border-color: #53575b;\n",
              "  }\n",
              "  .logo-light {\n",
              "    display: none;\n",
              "  }\n",
              "  .gradient {\n",
              "    background: linear-gradient(90deg, #1f1f1f 15%, #1f1f1f00 100%);\n",
              "  }\n",
              "}\n",
              "</style>\n",
              "<div class=\"container\">\n",
              "  <div class=\"headline\">\n",
              "    <svg class=\"logo-light\" width=\"18\" height=\"18\" viewBox=\"9 9 35 35\" fill=\"none\" xmlns=\"http://www.w3.org/2000/svg\">\n",
              "      <path fill-rule=\"evenodd\" clip-rule=\"evenodd\" d=\"M42.8622 27.0064C42.8622 25.7839 42.7525 24.6084 42.5487 23.4799H26.3109V30.1568H35.5897C35.1821 32.3041 33.9596 34.1222 32.1258 35.3448V39.6864H37.7213C40.9814 36.677 42.8622 32.2571 42.8622 27.0064V27.0064Z\" fill=\"#4285F4\"/>\n",
              "      <path fill-rule=\"evenodd\" clip-rule=\"evenodd\" d=\"M26.3109 43.8555C30.9659 43.8555 34.8687 42.3195 37.7213 39.6863L32.1258 35.3447C30.5898 36.3792 28.6306 37.0061 26.3109 37.0061C21.8282 37.0061 18.0195 33.9811 16.6559 29.906H10.9194V34.3573C13.7563 39.9841 19.5712 43.8555 26.3109 43.8555V43.8555Z\" fill=\"#34A853\"/>\n",
              "      <path fill-rule=\"evenodd\" clip-rule=\"evenodd\" d=\"M16.6559 29.8904C16.3111 28.8559 16.1074 27.7588 16.1074 26.6146C16.1074 25.4704 16.3111 24.3733 16.6559 23.3388V18.8875H10.9194C9.74388 21.2072 9.06992 23.8247 9.06992 26.6146C9.06992 29.4045 9.74388 32.022 10.9194 34.3417L15.3864 30.8621L16.6559 29.8904V29.8904Z\" fill=\"#FBBC05\"/>\n",
              "      <path fill-rule=\"evenodd\" clip-rule=\"evenodd\" d=\"M26.3109 16.2386C28.85 16.2386 31.107 17.1164 32.9095 18.8091L37.8466 13.8719C34.853 11.082 30.9659 9.3736 26.3109 9.3736C19.5712 9.3736 13.7563 13.245 10.9194 18.8875L16.6559 23.3388C18.0195 19.2636 21.8282 16.2386 26.3109 16.2386V16.2386Z\" fill=\"#EA4335\"/>\n",
              "    </svg>\n",
              "    <svg class=\"logo-dark\" width=\"18\" height=\"18\" viewBox=\"0 0 48 48\" xmlns=\"http://www.w3.org/2000/svg\">\n",
              "      <circle cx=\"24\" cy=\"23\" fill=\"#FFF\" r=\"22\"/>\n",
              "      <path d=\"M33.76 34.26c2.75-2.56 4.49-6.37 4.49-11.26 0-.89-.08-1.84-.29-3H24.01v5.99h8.03c-.4 2.02-1.5 3.56-3.07 4.56v.75l3.91 2.97h.88z\" fill=\"#4285F4\"/>\n",
              "      <path d=\"M15.58 25.77A8.845 8.845 0 0 0 24 31.86c1.92 0 3.62-.46 4.97-1.31l4.79 3.71C31.14 36.7 27.65 38 24 38c-5.93 0-11.01-3.4-13.45-8.36l.17-1.01 4.06-2.85h.8z\" fill=\"#34A853\"/>\n",
              "      <path d=\"M15.59 20.21a8.864 8.864 0 0 0 0 5.58l-5.03 3.86c-.98-2-1.53-4.25-1.53-6.64 0-2.39.55-4.64 1.53-6.64l1-.22 3.81 2.98.22 1.08z\" fill=\"#FBBC05\"/>\n",
              "      <path d=\"M24 14.14c2.11 0 4.02.75 5.52 1.98l4.36-4.36C31.22 9.43 27.81 8 24 8c-5.93 0-11.01 3.4-13.45 8.36l5.03 3.85A8.86 8.86 0 0 1 24 14.14z\" fill=\"#EA4335\"/>\n",
              "    </svg>\n",
              "    <div class=\"gradient-container\"><div class=\"gradient\"></div></div>\n",
              "  </div>\n",
              "  <div class=\"carousel\">\n",
              "    <a class=\"chip\" href=\"https://vertexaisearch.cloud.google.com/grounding-api-redirect/AbF9wXH_wkfpw6XCE2TTYbwY30JG_DBCD1x68GArUVI1Bvso_7Hx6RLp7S2yOchJoGrDHZjY5NlFIdJMAvI5Kwptzvo4vlQHnE5edzU0YrDlDfCljJf87dabyJQYk2Zl6IMUHFzZkJbzXkFThHr8VQoH8vunPvbMAZnvz-uxOmyXFYthddz5k4HOUSOFKrmnw3pNid1PGtLtkZv74huB-bsTGE3-vyVK6sSg5NaPNHQoKxW8bvf5TSbzkwgQxPQbIC-gkd001Iw=\">regulamentação doação de medicamentos brasil</a>\n",
              "    <a class=\"chip\" href=\"https://vertexaisearch.cloud.google.com/grounding-api-redirect/AbF9wXFapRydBLou2yBoDw3R2LLIp9TxktnGdD1bYK-vjOHoOrvyOuycYWfprVwDLUiEW_j2t5In7MYvqNH0TkYy6MNvuMOQaU-vAnCGEq4yRdXrBsgzJw-SG-6RfYleeOTIviTRfhaGXU01A5XdgjE7YZ67f_Gh0ddJGjNMejvA7XNiH4DlUchU_E6APhnBoIATnOqFaUVVpCQunb89n_IUSvKPzw5bUVgBRcqhEIryeVBDYmipVIC4VR5WkIA=\">processo legal doação de remédios brasil</a>\n",
              "    <a class=\"chip\" href=\"https://vertexaisearch.cloud.google.com/grounding-api-redirect/AbF9wXEW2ac8DG3CdV1YWnRWZ4djZVrsst-UjcfOhuPfDVx53p4MSXIaTFRAJKW22gGoD6kcNgXRNSWWBX0PDGQAMicnUDrUHVL2E1tknuvzQhQM_T8kIXpUje8Gb-mipMNs6lYSBmcGXf7s5KVO7tuqZoJGxq2uWFTgo8YGNywvLoLHFefZpt5bIEG-Ux1GjM6GxnaVocsPZoZAJ8-VRFb7dOxD8jum42YAf7_d6Yo0NAgLiwA8fE_s5S31EiPvrsEeug==\">legislação doação de medicamentos brasil</a>\n",
              "  </div>\n",
              "</div>\n"
            ]
          },
          "metadata": {}
        }
      ]
    },
    {
      "cell_type": "code",
      "source": [
        "# Instalar Framework de agentes do Google ################################################\n",
        "!pip install -q google-adk"
      ],
      "metadata": {
        "id": "a1eRPalxEnj7",
        "colab": {
          "base_uri": "https://localhost:8080/"
        },
        "outputId": "90b07b7a-3f3e-43e1-da79-9b9e2b2f7d9d"
      },
      "execution_count": null,
      "outputs": [
        {
          "output_type": "stream",
          "name": "stdout",
          "text": [
            "\u001b[?25l   \u001b[90m━━━━━━━━━━━━━━━━━━━━━━━━━━━━━━━━━━━━━━━━\u001b[0m \u001b[32m0.0/1.2 MB\u001b[0m \u001b[31m?\u001b[0m eta \u001b[36m-:--:--\u001b[0m\r\u001b[2K   \u001b[91m━━━━━━━━━━━\u001b[0m\u001b[90m╺\u001b[0m\u001b[90m━━━━━━━━━━━━━━━━━━━━━━━━━━━━\u001b[0m \u001b[32m0.3/1.2 MB\u001b[0m \u001b[31m9.9 MB/s\u001b[0m eta \u001b[36m0:00:01\u001b[0m\r\u001b[2K   \u001b[91m━━━━━━━━━━━━━━━━━━━━━━━━━━━━━━━━━━━━━━━\u001b[0m\u001b[91m╸\u001b[0m \u001b[32m1.2/1.2 MB\u001b[0m \u001b[31m19.1 MB/s\u001b[0m eta \u001b[36m0:00:01\u001b[0m\r\u001b[2K   \u001b[90m━━━━━━━━━━━━━━━━━━━━━━━━━━━━━━━━━━━━━━━━\u001b[0m \u001b[32m1.2/1.2 MB\u001b[0m \u001b[31m15.7 MB/s\u001b[0m eta \u001b[36m0:00:00\u001b[0m\n",
            "\u001b[?25h\u001b[?25l   \u001b[90m━━━━━━━━━━━━━━━━━━━━━━━━━━━━━━━━━━━━━━━━\u001b[0m \u001b[32m0.0/232.1 kB\u001b[0m \u001b[31m?\u001b[0m eta \u001b[36m-:--:--\u001b[0m\r\u001b[2K   \u001b[90m━━━━━━━━━━━━━━━━━━━━━━━━━━━━━━━━━━━━━━━━\u001b[0m \u001b[32m232.1/232.1 kB\u001b[0m \u001b[31m20.0 MB/s\u001b[0m eta \u001b[36m0:00:00\u001b[0m\n",
            "\u001b[2K   \u001b[90m━━━━━━━━━━━━━━━━━━━━━━━━━━━━━━━━━━━━━━━━\u001b[0m \u001b[32m95.2/95.2 kB\u001b[0m \u001b[31m9.2 MB/s\u001b[0m eta \u001b[36m0:00:00\u001b[0m\n",
            "\u001b[2K   \u001b[90m━━━━━━━━━━━━━━━━━━━━━━━━━━━━━━━━━━━━━━━━\u001b[0m \u001b[32m217.1/217.1 kB\u001b[0m \u001b[31m18.3 MB/s\u001b[0m eta \u001b[36m0:00:00\u001b[0m\n",
            "\u001b[2K   \u001b[90m━━━━━━━━━━━━━━━━━━━━━━━━━━━━━━━━━━━━━━━━\u001b[0m \u001b[32m334.1/334.1 kB\u001b[0m \u001b[31m29.8 MB/s\u001b[0m eta \u001b[36m0:00:00\u001b[0m\n",
            "\u001b[2K   \u001b[90m━━━━━━━━━━━━━━━━━━━━━━━━━━━━━━━━━━━━━━━━\u001b[0m \u001b[32m125.1/125.1 kB\u001b[0m \u001b[31m12.0 MB/s\u001b[0m eta \u001b[36m0:00:00\u001b[0m\n",
            "\u001b[2K   \u001b[90m━━━━━━━━━━━━━━━━━━━━━━━━━━━━━━━━━━━━━━━━\u001b[0m \u001b[32m65.8/65.8 kB\u001b[0m \u001b[31m5.4 MB/s\u001b[0m eta \u001b[36m0:00:00\u001b[0m\n",
            "\u001b[2K   \u001b[90m━━━━━━━━━━━━━━━━━━━━━━━━━━━━━━━━━━━━━━━━\u001b[0m \u001b[32m119.0/119.0 kB\u001b[0m \u001b[31m11.3 MB/s\u001b[0m eta \u001b[36m0:00:00\u001b[0m\n",
            "\u001b[2K   \u001b[90m━━━━━━━━━━━━━━━━━━━━━━━━━━━━━━━━━━━━━━━━\u001b[0m \u001b[32m194.9/194.9 kB\u001b[0m \u001b[31m18.3 MB/s\u001b[0m eta \u001b[36m0:00:00\u001b[0m\n",
            "\u001b[2K   \u001b[90m━━━━━━━━━━━━━━━━━━━━━━━━━━━━━━━━━━━━━━━━\u001b[0m \u001b[32m62.5/62.5 kB\u001b[0m \u001b[31m5.8 MB/s\u001b[0m eta \u001b[36m0:00:00\u001b[0m\n",
            "\u001b[2K   \u001b[90m━━━━━━━━━━━━━━━━━━━━━━━━━━━━━━━━━━━━━━━━\u001b[0m \u001b[32m103.3/103.3 kB\u001b[0m \u001b[31m11.0 MB/s\u001b[0m eta \u001b[36m0:00:00\u001b[0m\n",
            "\u001b[2K   \u001b[90m━━━━━━━━━━━━━━━━━━━━━━━━━━━━━━━━━━━━━━━━\u001b[0m \u001b[32m44.4/44.4 kB\u001b[0m \u001b[31m3.8 MB/s\u001b[0m eta \u001b[36m0:00:00\u001b[0m\n",
            "\u001b[2K   \u001b[90m━━━━━━━━━━━━━━━━━━━━━━━━━━━━━━━━━━━━━━━━\u001b[0m \u001b[32m72.0/72.0 kB\u001b[0m \u001b[31m6.1 MB/s\u001b[0m eta \u001b[36m0:00:00\u001b[0m\n",
            "\u001b[?25h"
          ]
        }
      ]
    },
    {
      "cell_type": "code",
      "execution_count": null,
      "metadata": {
        "id": "aePV2bdfDeoW"
      },
      "outputs": [],
      "source": [
        "from google.adk.agents import Agent\n",
        "from google.adk.runners import Runner\n",
        "from google.adk.sessions import InMemorySessionService\n",
        "from google.adk.tools import google_search\n",
        "from google.genai import types  # Para criar conteúdos (Content e Part)\n",
        "from datetime import date\n",
        "import textwrap # Para formatar melhor a saída de texto\n",
        "from IPython.display import display, Markdown # Para exibir texto formatado no Colab\n",
        "import requests # Para fazer requisições HTTP\n",
        "import warnings\n",
        "\n",
        "warnings.filterwarnings(\"ignore\")"
      ]
    },
    {
      "cell_type": "code",
      "source": [
        "# Função auxiliar que envia uma mensagem para um agente via Runner e retorna a resposta final\n",
        "def call_agent(agent: Agent, message_text: str) -> str:\n",
        "    # Cria um serviço de sessão em memória\n",
        "    session_service = InMemorySessionService()\n",
        "    # Cria uma nova sessão (você pode personalizar os IDs conforme necessário)\n",
        "    session = session_service.create_session(app_name=agent.name, user_id=\"user1\", session_id=\"session1\")\n",
        "    # Cria um Runner para o agente\n",
        "    runner = Runner(agent=agent, app_name=agent.name, session_service=session_service)\n",
        "    # Cria o conteúdo da mensagem de entrada\n",
        "    content = types.Content(role=\"user\", parts=[types.Part(text=message_text)])\n",
        "\n",
        "    final_response = \"\"\n",
        "    # Itera assincronamente pelos eventos retornados durante a execução do agente\n",
        "    for event in runner.run(user_id=\"user1\", session_id=\"session1\", new_message=content):\n",
        "        if event.is_final_response():\n",
        "          for part in event.content.parts:\n",
        "            if part.text is not None:\n",
        "              final_response += part.text\n",
        "              final_response += \"\\n\"\n",
        "    return final_response"
      ],
      "metadata": {
        "id": "_xP4lWhsS5ko"
      },
      "execution_count": null,
      "outputs": []
    },
    {
      "cell_type": "code",
      "source": [
        "# Função auxiliar para exibir texto formatado em Markdown no Colab\n",
        "def to_markdown(text):\n",
        "  text = text.replace('•', '  *')\n",
        "  return Markdown(textwrap.indent(text, '> ', predicate=lambda _: True))"
      ],
      "metadata": {
        "id": "8dosiodaxfFR"
      },
      "execution_count": null,
      "outputs": []
    },
    {
      "cell_type": "code",
      "source": [
        "##############################################\n",
        "# --- Agente 1: Buscador de Medicamentos --- #\n",
        "##############################################\n",
        "def agente_buscador(topico, data_de_hoje):\n",
        "\n",
        "    buscador = Agent(\n",
        "        name=\"agente_buscador\",\n",
        "        model=\"gemini-2.0-flash\",\n",
        "        instruction=\"\"\"\n",
        "        Você é um agente especializado em encontrar informações sobre a disponibilidade de medicamentos para doação.\n",
        "        Sua tarefa é usar a ferramenta de busca do Google (google_search) para identificar organizações, plataformas ou iniciativas que ofereçam ou\n",
        "        facilitem a doação de remédios, conforme o medicamento informado e região do usuário.\n",
        "        Foque em identificar no máximo 5 fontes relevantes que permitam encontrar medicamentos para doação na região informada pelo usuário.\n",
        "        A relevância será determinada pela clareza das informações sobre doação de medicamentos e pela validade da mediCação disponível para doação.\n",
        "        As informações encontradas devem ser atuais e relevantes para o contexto de busca por medicamentos disponíveis para doação.\n",
        "        \"\"\",\n",
        "        description=\"Agente que busca informações sobre doações no Google\",\n",
        "        tools=[google_search]\n",
        "    )\n",
        "\n",
        "    entrada_do_agente_buscador = f\"Tópico: {topico}\\nRegiao: {regiao}\\nData de hoje: {data_de_hoje}\"\n",
        "\n",
        "    lancamentos = call_agent(buscador, entrada_do_agente_buscador)\n",
        "    return lancamentos"
      ],
      "metadata": {
        "id": "o8bqIfi_DyH8"
      },
      "execution_count": 101,
      "outputs": []
    },
    {
      "cell_type": "code",
      "source": [
        "################################################\n",
        "# --- Agente 2: Refinador da busca --- #\n",
        "################################################\n",
        "def agente_refinador(topico, lancamentos_buscados):\n",
        "    planejador = Agent(\n",
        "        name=\"agente_refinador\",\n",
        "        model=\"gemini-2.0-flash\",\n",
        "        # Inserir as instruções do Agente Refinador da Busca #################################################\n",
        "        instruction=\"\"\"\n",
        "        Você é um refinador de conteúdo, especialista em usar a ferramenta de mapas do Google (google_maps) para informar quais as regiões onde se encontram\n",
        "        disponíveis os medicamentos encontrados para doação e apenas as que sejam próximas à região informada pelo user.\n",
        "        \"\"\",\n",
        "        description=\"Agente que planeja posts\",\n",
        "        tools=[google_search]\n",
        "    )\n",
        "\n",
        "    entrada_do_agente_refinador = f\"Tópico:{topico}\\nLançamentos buscados: {lancamentos_buscados}\"\n",
        "    # Executa o agente\n",
        "    plano_do_post = call_agent(planejador, entrada_do_agente_refinador)\n",
        "    return plano_do_post"
      ],
      "metadata": {
        "id": "y3VO1uo5_ghO"
      },
      "execution_count": 102,
      "outputs": []
    },
    {
      "cell_type": "code",
      "source": [
        "######################################\n",
        "# --- Agente 3: Redator do Post --- #\n",
        "######################################\n",
        "def agente_redator(topico, plano_de_post):\n",
        "    redator = Agent(\n",
        "        name=\"agente_redator\",\n",
        "        # model=\"gemini-2.5-pro-preview-03-25\",\n",
        "        model=\"gemini-2.0-flash\",\n",
        "        instruction=\"\"\"\n",
        "            Você é um Redator Criativo especializado em criar posts virais para o Integram.\n",
        "            Você escreve posts para a página do EasyFarma, farmácia solidária em São Paulo que ajuda seus seguidores a obter remédios doados.\n",
        "            Utilize o tema fornecido no plano de post e os pontos mais relevantes fornecidos e, com base nisso,\n",
        "            escreva um rascunho de post para Instagram sobre o tema indicado.\n",
        "            O post deve ser encorajador, informativo, com linguagem simples e incluir hashtags relacionadas à medicamentos, remédios.\n",
        "            \"\"\",\n",
        "        description=\"Agente redator de posts engajadores para Instagram\"\n",
        "    )\n",
        "    entrada_do_agente_redator = f\"Tópico: {topico}\\nPlano de post: {plano_de_post}\"\n",
        "    # Executa o agente\n",
        "    rascunho = call_agent(redator, entrada_do_agente_redator)\n",
        "    return rascunho"
      ],
      "metadata": {
        "id": "uOqlg2TRLVh1"
      },
      "execution_count": 103,
      "outputs": []
    },
    {
      "cell_type": "code",
      "source": [
        "##########################################\n",
        "# --- Agente 4: Revisor de Qualidade --- #\n",
        "##########################################\n",
        "def agente_revisor(topico, rascunho_gerado):\n",
        "    revisor = Agent(\n",
        "        name=\"agente_revisor\",\n",
        "        # model=\"gemini-2.5-pro-preview-03-25\",\n",
        "        model=\"gemini-2.0-flash\",\n",
        "        instruction=\"\"\"\n",
        "            Você é um Editor e Revisor de Conteúdo meticuloso, especializado em posts para redes sociais, com foco no Instagram.\n",
        "            Por ter um público carente que precisa de ajuda, use um tom de escrita adequado.\n",
        "            Revise o rascunho de post de Instagram abaixo sobre o tópico indicado, verificando clareza, concisão, correção e tom.\n",
        "            Se o rascunho estiver bom, responda apenas 'Perfeito, pode publicar no ig da EasyFarma !'.\n",
        "            Caso haja problemas, aponte-os e sugira melhorias.\n",
        "            \"\"\",\n",
        "        description=\"Agente revisor de post para redes sociais.\"\n",
        "    )\n",
        "    entrada_do_agente_revisor = f\"Tópico: {topico}\\nRascunho: {rascunho_gerado}\"\n",
        "    # Executa o agente\n",
        "    texto_revisado = call_agent(revisor, entrada_do_agente_revisor)\n",
        "    return texto_revisado"
      ],
      "metadata": {
        "id": "_aTb1SdkLeT6"
      },
      "execution_count": 104,
      "outputs": []
    },
    {
      "cell_type": "code",
      "source": [
        "data_de_hoje = date.today().strftime(\"%d/%m/%Y\")\n",
        "\n",
        "print(\"🚀 ----- Iniciando o Sistema de Criação de Posts para Instagram com 4 Agentes ---- 🚀\"),\n",
        "print('\\n\\n')\n",
        "\n",
        "# Inserir lógica do sistema de agentes ################################################\n",
        "\n",
        "# --- Obter o Tópico do Usuário ---\n",
        "topico = input(\"❓ Por favor, digite o MEDICAMENTO sobre o qual você quer criar o post INFORMATIVO: \")\n",
        "if not topico:\n",
        "   print(\"Você esqueceu de informar o medicamento!\")\n",
        "   print('\\n')\n",
        "else:\n",
        "\n",
        "# --- Obter a Região do Usuário ---\n",
        "    regiao = input(\"❓ Informe a região que voce reside: \")\n",
        "\n",
        "    if not regiao:\n",
        "        print(\"Você esqueceu de informar a região!\")\n",
        "        print('\\n')\n",
        "    else:\n",
        "        print(f\"Maravilha! Vamos então criar o post sobre novidades em {topico} em sua {regiao}\")\n",
        "        print('\\n')\n",
        "\n",
        "    lancamentos_buscados = agente_buscador(topico, regiao)\n",
        "    print(\"\\n--- 📝 Resultado do Agente 1 (Buscador) ---\\n\")\n",
        "    display(to_markdown(lancamentos_buscados))\n",
        "    print(\"--------------------------------------------------------------\")\n",
        "\n",
        "    plano_de_post = agente_refinador(topico, lancamentos_buscados)\n",
        "    print(\"\\n--- 📝 Resultado do Agente 2 (Refinador) ---\\n\")\n",
        "    display(to_markdown(plano_de_post))\n",
        "    print(\"--------------------------------------------------------------\")\n",
        "\n",
        "    rascunho_de_post = agente_redator(topico, plano_de_post)\n",
        "    print(\"\\n--- 📝 Resultado do Agente 3 (Redator) ---\\n\")\n",
        "    display(to_markdown(rascunho_de_post))\n",
        "    print(\"--------------------------------------------------------------\")\n",
        "\n",
        "    post_final = agente_revisor(topico, rascunho_de_post)\n",
        "    print(\"\\n--- 📝 Resultado do Agente 4 (Revisor) ---\\n\")\n",
        "    display(to_markdown(post_final))\n",
        "    print(\"--------------------------------------------------------------\")"
      ],
      "metadata": {
        "colab": {
          "base_uri": "https://localhost:8080/",
          "height": 1000
        },
        "id": "6xzI6LKzxxnN",
        "outputId": "2a207d01-a1fd-4076-86af-e522ecece232"
      },
      "execution_count": 105,
      "outputs": [
        {
          "output_type": "stream",
          "name": "stdout",
          "text": [
            "🚀 ----- Iniciando o Sistema de Criação de Posts para Instagram com 4 Agentes ---- 🚀\n",
            "\n",
            "\n",
            "\n",
            "❓ Por favor, digite o MEDICAMENTO sobre o qual você quer criar o post INFORMATIVO: amoxilina\n",
            "❓ Informe a região que voce reside: zona sul\n",
            "Maravilha! Vamos então criar o post sobre novidades em amoxilina em sua zona sul\n",
            "\n",
            "\n",
            "\n",
            "--- 📝 Resultado do Agente 1 (Buscador) ---\n",
            "\n"
          ]
        },
        {
          "output_type": "display_data",
          "data": {
            "text/plain": [
              "<IPython.core.display.Markdown object>"
            ],
            "text/markdown": "> Para encontrar opções de doação de amoxicilina na Zona Sul, posso pesquisar por organizações, plataformas e iniciativas que facilitam a doação de medicamentos nessa região. Aqui estão algumas perguntas que posso usar para guiar minha busca:\n> \n> *   Quais organizações na Zona Sul aceitam doações de amoxicilina?\n> *   Existem plataformas online que conectam doadores e receptores de medicamentos na Zona Sul?\n> *   Há programas ou iniciativas específicas na Zona Sul que distribuem amoxicilina gratuitamente?\n> *   Como posso encontrar postos de coleta de medicamentos não utilizados na Zona Sul?\n> *   Quais são os requisitos para doar amoxicilina (validade, embalagem, etc.) na Zona Sul?\n> \n> \n> Com base nas informações encontradas, aqui estão algumas opções para encontrar amoxicilina para doação na Zona Sul:\n> \n> 1.  **Farmácias Solidárias:**\n> \n> *   **Farmácia Solidária da Unesc:** Embora esteja localizada em Criciúma, a Farmácia Solidária da Unesc recebe doações de medicamentos de toda a região e até do Rio Grande do Sul. Eles aceitam qualquer tipo de medicamento, inclusive os vencidos (para descarte adequado). Para ter acesso aos medicamentos, é necessário apresentar uma receita médica válida e um documento de identidade.\n> *   **Programa Solidare – Farmácia Solidária (Rio Grande do Sul):** Este programa recebe doações de medicamentos (incluindo amostras grátis) da população, clínicas, profissionais de saúde e empresas farmacêuticas, realizando a distribuição gratuita. Há diversas farmácias solidárias implantadas ou em estruturação no estado. É importante verificar se alguma delas está localizada na Zona Sul.\n> *   **Farmácia Solidária de Santa Cruz do Sul:** Recebe doações de medicamentos em boas condições para distribuir a quem precisa. Para retirar os medicamentos, é necessário apresentar receita médica, Cartão SUS atualizado e documento de identificação com foto.\n> \n> 2.  **Programas e Serviços Públicos:**\n> \n> *   **Programa Farmácia Popular do Brasil:** Este programa do governo federal disponibiliza medicamentos utilizados na Atenção Primária à Saúde, incluindo antibióticos como a amoxicilina, em farmácias credenciadas da rede privada. A partir de fevereiro de 2025, o programa passou a disponibilizar gratuitamente 100% dos medicamentos e insumos do seu elenco à população brasileira.\n> *   **Acesso a medicamentos no SUS (São Paulo):** O site da Prefeitura de São Paulo oferece informações sobre medicamentos disponíveis nas farmácias públicas municipais e estaduais, incluindo aquelas conhecidas como \"farmácias de alto custo\". Para mais informações, é recomendado dirigir-se à Unidade Básica de Saúde (UBS) mais próxima.\n> *   **Programa Remédio em Casa (São Paulo):** Este programa da Secretaria Municipal da Saúde de São Paulo entrega medicamentos em domicílio para pacientes com doenças crônicas estáveis e controladas clinicamente. É importante verificar se a amoxicilina está entre os medicamentos disponibilizados e se o programa atende a região da Zona Sul.\n> \n> 3.  **Outras Opções:**\n> \n> *   **Secretaria Estadual de Saúde (SES):** A SES recebe doações de medicamentos de ONGs, laboratórios farmacêuticos, distribuidoras e municípios. É possível entrar em contato com a secretaria para verificar a disponibilidade de amoxicilina e os requisitos para doação.\n> *   **Pontos de Coleta de Medicamentos:** Algumas farmácias e postos de saúde oferecem pontos de coleta para medicamentos sem uso ou vencidos. Embora o objetivo principal seja o descarte correto, pode ser válido verificar se eles também aceitam doações de medicamentos em boas condições. A Panvel, por exemplo, possui um programa de descarte de medicamentos chamado Destino Certo em diversas filiais no Rio Grande do Sul, Santa Catarina e Paraná.\n> *   **Entrar em contato com a Defesa Civil:** Em situações de emergência, como enchentes, a Defesa Civil pode receber doações de medicamentos. No entanto, é importante verificar as prioridades e necessidades específicas do momento.\n> \n> **Recomendações:**\n> \n> *   Verifique sempre a validade e as condições de armazenamento do medicamento antes de utilizá-lo.\n> *   Consulte um médico ou farmacêutico para obter orientações sobre o uso correto da amoxicilina.\n> *   Informe-se sobre os requisitos específicos de cada organização ou programa para doação ou recebimento de medicamentos.\n> *   Priorize as opções mais próximas de sua localização na Zona Sul para facilitar o acesso.\n> *   Entre em contato com as organizações listadas para confirmar a disponibilidade da amoxicilina e os procedimentos para obtê-la.\n> \n> Espero que estas informações sejam úteis para você encontrar amoxicilina para doação na Zona Sul!\n"
          },
          "metadata": {}
        },
        {
          "output_type": "stream",
          "name": "stdout",
          "text": [
            "--------------------------------------------------------------\n",
            "\n",
            "--- 📝 Resultado do Agente 2 (Refinador) ---\n",
            "\n"
          ]
        },
        {
          "output_type": "display_data",
          "data": {
            "text/plain": [
              "<IPython.core.display.Markdown object>"
            ],
            "text/markdown": "> Para encontrar opções de doação de amoxicilina na Zona Sul, podemos utilizar o Google Maps para localizar farmácias solidárias, programas de saúde e pontos de coleta de medicamentos.\n> \n> **Sugestões de pesquisa no Google Maps:**\n> \n> 1.  **Farmácias Solidárias na Zona Sul:** Pesquisar por \"farmácia solidária\" ou \"doação de medicamentos\" na Zona Sul para encontrar instituições que aceitam doações de amoxicilina.\n> 2.  **Programas de Saúde e UBS:** Procurar por \"Unidade Básica de Saúde\" (UBS) ou \"Programa Farmácia Popular\" na Zona Sul para verificar a disponibilidade de amoxicilina.\n> 3.  **Pontos de Coleta de Medicamentos:** Buscar por \"coleta de medicamentos\" ou \"descarte de medicamentos\" na Zona Sul para identificar locais que possam aceitar doações de medicamentos em boas condições.\n> \n> Ao utilizar o Google Maps, é possível visualizar a localização exata desses estabelecimentos, horários de funcionamento e informações de contato, facilitando a busca por opções de doação de amoxicilina próximas a você na Zona Sul.\n> \n> \n> Com base nas informações disponíveis, aqui estão algumas opções para encontrar amoxicilina para doação na Zona Sul, juntamente com os resultados da pesquisa no Google Maps:\n> \n> **1. Farmácias Solidárias:**\n> \n> *   **Pesquisar no Google Maps por:** \"farmácia solidária Zona Sul\" ou \"doação de medicamentos Zona Sul\". Isso pode revelar farmácias locais que aceitam doações e distribuem medicamentos gratuitamente.\n> *   **Programa Solidare – Farmácia Solidária (Rio Grande do Sul):** Embora a pesquisa não tenha retornado resultados específicos sobre a presença deste programa na Zona Sul, é válido verificar se alguma unidade está em estruturação na região.\n> *   **Farmácia Solidária da Unesc:** Recebe doações de toda a região e até do Rio Grande do Sul.\n> \n> **2. Programas e Serviços Públicos:**\n> \n> *   **Programa Farmácia Popular do Brasil:** A partir de fevereiro de 2025, este programa passou a disponibilizar gratuitamente 100% dos medicamentos e insumos do seu elenco à população brasileira. Pesquise no Google Maps por \"Programa Farmácia Popular Zona Sul\" para encontrar farmácias credenciadas.\n> *   **Unidades Básicas de Saúde (UBS):** Pesquise no Google Maps por \"Unidade Básica de Saúde Zona Sul\" para encontrar a UBS mais próxima. Entre em contato para verificar a disponibilidade de amoxicilina e os critérios para acesso.\n> *   **Programa Remédio em Casa (São Paulo):** Verifique se a amoxicilina está entre os medicamentos disponibilizados e se o programa atende a região da Zona Sul.\n> \n> **3. Outras Opções:**\n> \n> *   **Pontos de Coleta de Medicamentos:** Algumas farmácias e postos de saúde oferecem pontos de coleta para medicamentos sem uso ou vencidos. Embora o objetivo principal seja o descarte correto, pode ser válido verificar se eles também aceitam doações de medicamentos em boas condições. A Panvel, por exemplo, possui um programa de descarte de medicamentos chamado Destino Certo em diversas filiais no Rio Grande do Sul, Santa Catarina e Paraná. Pesquise no Google Maps por \"coleta de medicamentos Zona Sul\" ou \"descarte de medicamentos Zona Sul\" para encontrar os pontos de coleta mais próximos.\n> *   **Entrar em contato com a Defesa Civil:** Em situações de emergência, como enchentes, a Defesa Civil pode receber doações de medicamentos. No entanto, é importante verificar as prioridades e necessidades específicas do momento.\n> \n> **Recomendações:**\n> \n> *   Ao encontrar opções de doação ou distribuição de amoxicilina, verifique sempre a validade e as condições de armazenamento do medicamento.\n> *   Consulte um médico ou farmacêutico para obter orientações sobre o uso correto da amoxicilina.\n> *   Informe-se sobre os requisitos específicos de cada organização ou programa para doação ou recebimento de medicamentos.\n> *   Priorize as opções mais próximas de sua localização na Zona Sul para facilitar o acesso.\n> *   Entre em contato com as organizações listadas para confirmar a disponibilidade da amoxicilina e os procedimentos para obtê-la.\n> \n"
          },
          "metadata": {}
        },
        {
          "output_type": "stream",
          "name": "stdout",
          "text": [
            "--------------------------------------------------------------\n",
            "\n",
            "--- 📝 Resultado do Agente 3 (Redator) ---\n",
            "\n"
          ]
        },
        {
          "output_type": "display_data",
          "data": {
            "text/plain": [
              "<IPython.core.display.Markdown object>"
            ],
            "text/markdown": "> 🚨 AMIGOS DA ZONA SUL, PRECISAMOS DA SUA ATENÇÃO! 🚨\n> \n> Tá difícil encontrar Amoxicilina? 😥 A gente sabe como é importante ter acesso a esse medicamento! Por isso, preparamos um guia super prático para te ajudar a encontrar opções de doação aqui na Zona Sul de São Paulo:\n> \n> 📍 **MAPA DA ESPERANÇA:**\n> \n> 1️⃣ **Farmácias Solidárias:** Busque no Google Maps por \"farmácia solidária Zona Sul\" ou \"doação de medicamentos Zona Sul\". Muitas vezes, elas são verdadeiros oásis de solidariedade!\n> 2️⃣ **Saúde ao Alcance de Todos:** Unidades Básicas de Saúde (UBS) e o Programa Farmácia Popular podem ser o caminho! Pesquise no Google Maps e entre em contato para verificar a disponibilidade.\n> 3️⃣ **Descarte Consciente, Doação Inconsciente:** Alguns pontos de coleta de medicamentos podem aceitar doações em boas condições. Busque por \"coleta de medicamentos Zona Sul\" no Google Maps e confira!\n> \n> 💊 **DICA EXTRA:** Antes de usar qualquer medicamento, converse com seu médico ou farmacêutico, ok? 😉\n> \n> 📢 **JUNTOS SOMOS MAIS FORTES:** Compartilhe essa informação com seus amigos e familiares da Zona Sul! Vamos espalhar a solidariedade e garantir que ninguém fique sem acesso a Amoxicilina.\n> \n> #Amoxicilina #DoacaoDeMedicamentos #FarmaciaSolidaria #ZonaSul #SaoPaulo #Remedios #Saude #Solidariedade #EasyFarma #Ajuda\n"
          },
          "metadata": {}
        },
        {
          "output_type": "stream",
          "name": "stdout",
          "text": [
            "--------------------------------------------------------------\n",
            "\n",
            "--- 📝 Resultado do Agente 4 (Revisor) ---\n",
            "\n"
          ]
        },
        {
          "output_type": "display_data",
          "data": {
            "text/plain": [
              "<IPython.core.display.Markdown object>"
            ],
            "text/markdown": "> O post está bem construído e informativo, mas podemos otimizar alguns pontos para aumentar o engajamento e a clareza:\n> \n> **Problemas e Sugestões:**\n> \n> 1.  **Urgência Excessiva:** O uso excessivo de emojis de alerta pode cansar o leitor. Sugiro usar com moderação.\n> 2.  **Foco Geográfico:** O post é muito específico para a Zona Sul de São Paulo. Se o perfil da EasyFarma tem um alcance maior, talvez seja interessante generalizar um pouco ou adaptar o post para outras regiões.\n> 3.  **Google Maps:** Mencionar o Google Maps é útil, mas podemos dar instruções mais claras sobre como usar essa ferramenta.\n> 4.  **Dica Extra:** A \"Dica Extra\" é fundamental e deve ser destacada.\n> 5.  **Hashtags:** As hashtags estão boas, mas podemos adicionar algumas mais específicas e populares.\n> \n> **Post Revisado:**\n> \n> 🚨 Atenção! Precisando de Amoxicilina? 😥\n> \n> Sabemos como é importante ter acesso a esse medicamento! Se você está com dificuldades para encontrar, preparamos algumas dicas para te ajudar:\n> \n> 📍 **ONDE ENCONTRAR:**\n> \n> 1️⃣ **Farmácias Solidárias:** Busque por \"farmácia solidária\" no Google Maps. Muitas farmácias oferecem medicamentos doados! 😉\n> 2️⃣ **Unidades de Saúde:** Consulte a Unidade Básica de Saúde (UBS) mais próxima ou o programa Farmácia Popular. Verifique a disponibilidade por telefone ou pessoalmente!\n> 3️⃣ **Pontos de Coleta:** Alguns locais de coleta de medicamentos aceitam doações em boas condições. Pesquise por \"coleta de medicamentos\" no Google e confira!\n> \n> 💊 **IMPORTANTE:** Antes de usar qualquer medicamento, converse sempre com seu médico ou farmacêutico! A automedicação pode ser perigosa. 😉\n> \n> 📢 **FAÇA A SUA PARTE:** Compartilhe essa informação com seus amigos e familiares! Juntos, podemos garantir que ninguém fique sem acesso à Amoxicilina.\n> \n> #Amoxicilina #Remedios #FarmaciaSolidaria #DoacaoDeMedicamentos #Saude #DicaDeSaude #EasyFarma #Ajuda #Medicamentos\n"
          },
          "metadata": {}
        },
        {
          "output_type": "stream",
          "name": "stdout",
          "text": [
            "--------------------------------------------------------------\n"
          ]
        }
      ]
    }
  ]
}